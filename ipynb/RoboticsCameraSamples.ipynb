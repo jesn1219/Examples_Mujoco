{
 "cells": [
  {
   "cell_type": "code",
   "execution_count": null,
   "metadata": {},
   "outputs": [],
   "source": [
    "import sys\n",
    "from os import path\n",
    "\n",
    "if __package__ is None:\n",
    "    #print(\"__package__ is None\") \n",
    "    print(path.dirname( path.dirname( path.abspath('__file__') ) ))\n",
    "    sys.path.append(path.dirname( path.dirname( path.abspath(\"__file__\") ) ))\n",
    "from Jutils import display_video\n",
    "\n",
    "import mujoco_py\n",
    "import copy\n",
    "import os\n",
    "import itertools\n",
    "from IPython.display import clear_output, display, Image, HTML\n",
    "import numpy as np\n",
    "# Graphics-related\n",
    "import matplotlib\n",
    "import matplotlib.animation as animation\n",
    "import matplotlib.pyplot as plt\n",
    "import PIL.Image"
   ]
  },
  {
   "cell_type": "markdown",
   "metadata": {},
   "source": [
    "# Example codes for Camera Setting in Gym Robotics "
   ]
  },
  {
   "cell_type": "code",
   "execution_count": null,
   "metadata": {},
   "outputs": [],
   "source": [
    "# Setting camera distance, angles\n",
    "'''\n",
    "struct _mjvCamera                   // abstract camera\n",
    "{\n",
    "    // type and ids\n",
    "    int      type;                  // camera type (mjtCamera)\n",
    "    int      fixedcamid;            // fixed camera id\n",
    "    int      trackbodyid;           // body id to track\n",
    "\n",
    "    // abstract camera pose specification\n",
    "    mjtNum   lookat[3];             // lookat point\n",
    "    mjtNum   distance;              // distance to lookat point or tracked body\n",
    "    mjtNum   azimuth;               // camera azimuth (deg)\n",
    "    mjtNum   elevation;             // camera elevation (deg)\n",
    "};\n",
    "typedef struct _mjvCamera mjvCamera;\n",
    "\n",
    "pos는 없는 듯함 (mjvGLCamera에는 있는데 에러보니까 gym에서 env.viewer.cam은 mjvCamera로 되던디...\n",
    "\n",
    "if mode == \"human\":\n",
    "    self.viewer = mujoco_py.MjViewer(self.sim)\n",
    "elif mode == \"rgb_array\" or mode == \"depth_array\":\n",
    "    self.viewer = mujoco_py.MjRenderContextOffscreen(self.sim, -1))\n",
    "\n",
    "'''\n",
    "def set_cam(env, config) :\n",
    "    env.viewer.cam.distance = config['distance']\n",
    "    env.viewer.cam.azimuth = config['azimuth'] # angle for horizontal\n",
    "    env.viewer.cam.elevation = config['elevation'] # angle for vertical\n",
    "\n",
    "    #env.viewer.move_camera(pos[0],pos[1],pos[2]) # move_camera에 들어가는 (?,?,?) parameter가 각각 뭘 뜻하는지 모르겠음. 주의할점 : 0이나 음수 값 넣으면 무한루프돌음\n",
    "    # move_camera(action, dx / height, dy / height) # mujoco_py.MjViewer (move_camera로 pos정하는거 아닌가?)\n",
    "\n",
    "# Setting camera pos : env.move_camera\n"
   ]
  },
  {
   "cell_type": "code",
   "execution_count": null,
   "metadata": {},
   "outputs": [],
   "source": [
    "import gym\n",
    "\n",
    "env_name = 'FetchPickAndPlace-v1'\n",
    "env = gym.make(env_name) # Initalize with 'AntAndFetch-v1' - embedded in Gym\n",
    "env.reset()\n",
    "\n",
    "cam_config_1 = {'distance' : 2.5, 'azimuth' : 132.0, 'elevation' : -14.0}\n",
    "cam_config_2 = {'distance' : 2.5, 'azimuth' : 64.0, 'elevation' : -14.0}\n",
    "#env.viewer.move_camera()\n",
    "\n",
    "video_1 = []\n",
    "video_2 = []\n",
    "\n",
    "'''\n",
    "env.step()\n",
    "Args:\n",
    "    action (object): an action provided by the agent\n",
    "Returns:\n",
    "    observation (object): agent's observation of the current environment\n",
    "    reward (float) : amount of reward returned after previous action\n",
    "    done (bool): whether the episode has ended, in which case further step() calls will return undefined results\n",
    "    info (dict): contains auxiliary diagnostic information (helpful for debugging, logging, and sometimes learning)\n",
    "'''\n",
    "\n",
    "for i in range(20):\n",
    "    obs, reward, done, info = env.step(env.action_space.sample()) # take a random action\n",
    "    pixels = env.render(mode='rgb_array')\n",
    "    set_cam(env, cam_config_1)\n",
    "    env.viewer.move_camera(1,-0.05*i, 0) # move_camera(action, dx / height, dy / height)\n",
    "    video_1.append(env.render(mode='rgb_array').copy())\n",
    "    #set_cam(env, cam_config_2)\n",
    "    #video_2.append(env.render(mode='rgb_array').copy())\n",
    "\n",
    "env.close()\n",
    "print(\"Createing Video..\")\n",
    "display_video(video_1, gif=True)\n",
    "#display_video(video_2, gif=True)"
   ]
  },
  {
   "cell_type": "markdown",
   "metadata": {},
   "source": [
    "# Call to implementation : "
   ]
  },
  {
   "cell_type": "markdown",
   "metadata": {},
   "source": [
    "하나의 장면에 대해 여러 각도의 화면을 한 Video로 만드는 함수.\n",
    "\n",
    "여러개의 화면을 수평 방향 일렬로 붙이거나, Grid 형태의 2X2 형태로 만들거나.\n",
    "\n"
   ]
  },
  {
   "cell_type": "code",
   "execution_count": null,
   "metadata": {},
   "outputs": [],
   "source": [
    "'''\n",
    "env : env\n",
    "cam_configs : configs for different angle\n",
    "shape : (n,m) 모양 \n",
    "'''\n",
    "\n",
    "def render_multi_angle(env, cam_configs, shape) :\n",
    "    if shape[0]*shape[1] != len(cam_configs):\n",
    "        raise Exception('It cannot be expressed in entered array.')\n",
    "    \n",
    "    # 띄우기\n",
    "    size = 300\n",
    "    height_blank = np.array([[[255, 255, 255] for i in range(10)] for j in range(size)]) \n",
    "    width_blank = np.array([[[255, 255, 255] for i in range(size*shape[1] + 10*(shape[1]+1))] for j in range(10)])\n",
    "\n",
    "    pixel = width_blank\n",
    "    idx = 0\n",
    "\n",
    "    for i in range(shape[0]): # 행\n",
    "        pixel_temp = height_blank\n",
    "        for j in range(shape[1]): # 열\n",
    "            set_cam(env, cam_configs[idx])\n",
    "            idx += 1\n",
    "            pixel_temp = np.hstack([pixel_temp, env.render(mode='rgb_array', width=size, height=size).copy()]) # 옆으로 붙이기\n",
    "            pixel_temp = np.hstack([pixel_temp, height_blank])\n",
    "        pixel = np.vstack([pixel, pixel_temp]) # 위로 붙이기\n",
    "        pixel = np.vstack([pixel, width_blank])\n",
    "\n",
    "    return pixel"
   ]
  },
  {
   "cell_type": "code",
   "execution_count": null,
   "metadata": {},
   "outputs": [],
   "source": [
    "# Use Example\n",
    "import gym\n",
    "env_name = 'FetchPickAndPlace-v1'\n",
    "env = gym.make(env_name)\n",
    "env.reset()\n",
    "env.render(mode='rgb_array')\n",
    "\n",
    "cam_config_1 = {'distance' : 2.5, 'azimuth' : 90.0, 'elevation' : -14.0}\n",
    "cam_config_2 = {'distance' : 2.5, 'azimuth' : 180.0, 'elevation' : -14.0} # 정면\n",
    "cam_config_3 = {'distance' : 2.5, 'azimuth' : 270.0, 'elevation' : -14.0}\n",
    "cam_config_4 = {'distance' : 2.5, 'azimuth' : 0.0, 'elevation' : -14.0}\n",
    "cam_configs = [cam_config_1, cam_config_2, cam_config_3, cam_config_4]\n",
    "\n",
    "video = [] \n",
    "\n",
    "print(\"Createing Video..\")\n",
    "for _ in range(10):\n",
    "    obs, reward, done, info = env.step(env.action_space.sample()) # take a random action\n",
    "    pixels = render_multi_angle(env, cam_configs,(2,2))\n",
    "    video.append(pixels)\n",
    "\n",
    "display_video(video, gif=True)"
   ]
  },
  {
   "cell_type": "markdown",
   "metadata": {},
   "source": [
    "추가 요청사항 :\n",
    "1. render 하는 화면의 Width, Height를 조정할 수 있는지. 가능하다면 이것도 별개의 세팅으로 다뤄야할듯"
   ]
  },
  {
   "cell_type": "code",
   "execution_count": null,
   "metadata": {},
   "outputs": [],
   "source": [
    "# DEFAULT_SIZE = 500\n",
    "# gym > envs > mujoco > mujoco_envs > render() 에서 변경 가능\n",
    "# mujoco_envs.py render()\n",
    "\n",
    "def render(\n",
    "        self,\n",
    "        mode=\"human\",\n",
    "        width=DEFAULT_SIZE,\n",
    "        height=DEFAULT_SIZE,\n",
    "        camera_id=None,\n",
    "        camera_name=None,\n",
    "    ):\n",
    "        if mode == \"rgb_array\" or mode == \"depth_array\":\n",
    "            if camera_id is not None and camera_name is not None:\n",
    "                raise ValueError(\n",
    "                    \"Both `camera_id` and `camera_name` cannot be\"\n",
    "                    \" specified at the same time.\"\n",
    "                )\n",
    "\n",
    "            no_camera_specified = camera_name is None and camera_id is None\n",
    "            if no_camera_specified:\n",
    "                camera_name = \"track\"\n",
    "\n",
    "            if camera_id is None and camera_name in self.model._camera_name2id:\n",
    "                camera_id = self.model.camera_name2id(camera_name)\n",
    "\n",
    "            self._get_viewer(mode).render(width, height, camera_id=camera_id)\n",
    "\n",
    "        if mode == \"rgb_array\":\n",
    "            # window size used for old mujoco-py:\n",
    "            data = self._get_viewer(mode).read_pixels(width, height, depth=False)\n",
    "            # original image is upside-down, so flip it\n",
    "            return data[::-1, :, :]\n",
    "        elif mode == \"depth_array\":\n",
    "            self._get_viewer(mode).render(width, height)\n",
    "            # window size used for old mujoco-py:\n",
    "            # Extract depth part of the read_pixels() tuple\n",
    "            data = self._get_viewer(mode).read_pixels(width, height, depth=True)[1]\n",
    "            # original image is upside-down, so flip it\n",
    "            return data[::-1, :]\n",
    "        elif mode == \"human\":\n",
    "            self._get_viewer(mode).render()"
   ]
  },
  {
   "cell_type": "markdown",
   "metadata": {},
   "source": [
    "# Custom Environment"
   ]
  },
  {
   "cell_type": "code",
   "execution_count": 1,
   "metadata": {},
   "outputs": [
    {
     "ename": "ModuleNotFoundError",
     "evalue": "No module named 'custom_gym'",
     "output_type": "error",
     "traceback": [
      "\u001b[0;31m---------------------------------------------------------------------------\u001b[0m",
      "\u001b[0;31mModuleNotFoundError\u001b[0m                       Traceback (most recent call last)",
      "\u001b[1;32m/home/yspark/Examples_Mujoco/ipynb/RoboticsCameraSamples.ipynb Cell 12'\u001b[0m in \u001b[0;36m<module>\u001b[0;34m\u001b[0m\n\u001b[0;32m----> <a href='vscode-notebook-cell://ssh-remote%2B7b22686f73744e616d65223a223134372e34362e3231362e3633222c2275736572223a2279737061726b222c22706f7274223a323230317d/home/yspark/Examples_Mujoco/ipynb/RoboticsCameraSamples.ipynb#ch0000011vscode-remote?line=0'>1</a>\u001b[0m \u001b[39mimport\u001b[39;00m \u001b[39mcustom_gym\u001b[39;00m \u001b[39mas\u001b[39;00m \u001b[39mcg\u001b[39;00m\n\u001b[1;32m      <a href='vscode-notebook-cell://ssh-remote%2B7b22686f73744e616d65223a223134372e34362e3231362e3633222c2275736572223a2279737061726b222c22706f7274223a323230317d/home/yspark/Examples_Mujoco/ipynb/RoboticsCameraSamples.ipynb#ch0000011vscode-remote?line=2'>3</a>\u001b[0m env_name \u001b[39m=\u001b[39m \u001b[39m'\u001b[39m\u001b[39mFetchPickAndPlace-v1\u001b[39m\u001b[39m'\u001b[39m\n\u001b[1;32m      <a href='vscode-notebook-cell://ssh-remote%2B7b22686f73744e616d65223a223134372e34362e3231362e3633222c2275736572223a2279737061726b222c22706f7274223a323230317d/home/yspark/Examples_Mujoco/ipynb/RoboticsCameraSamples.ipynb#ch0000011vscode-remote?line=3'>4</a>\u001b[0m env \u001b[39m=\u001b[39m cg\u001b[39m.\u001b[39mmake(env_name)\n",
      "\u001b[0;31mModuleNotFoundError\u001b[0m: No module named 'custom_gym'"
     ]
    }
   ],
   "source": [
    "import custom_gym as cg\n",
    "\n",
    "env_name = 'FetchPickAndPlace-v1'\n",
    "env = cg.make(env_name)\n",
    "env.reset()\n",
    "\n",
    "cam_config_1 = {'distance' : 2.5, 'azimuth' : 132.0, 'elevation' : -14.0}\n",
    "cam_config_2 = {'distance' : 2.5, 'azimuth' : 64.0, 'elevation' : -14.0}\n",
    "#env.viewer.move_camera()\n",
    "\n",
    "video_1 = []\n",
    "video_2 = []\n",
    "\n",
    "'''\n",
    "env.step()\n",
    "Args:\n",
    "    action (object): an action provided by the agent\n",
    "Returns:\n",
    "    observation (object): agent's observation of the current environment\n",
    "    reward (float) : amount of reward returned after previous action\n",
    "    done (bool): whether the episode has ended, in which case further step() calls will return undefined results\n",
    "    info (dict): contains auxiliary diagnostic information (helpful for debugging, logging, and sometimes learning)\n",
    "'''\n",
    "\n",
    "for i in range(1):\n",
    "    obs, reward, done, info = env.step(env.action_space.sample()) # take a random action\n",
    "    pixels = env.render(mode='rgb_array')\n",
    "    set_cam(env, cam_config_1)\n",
    "    env.viewer.move_camera(1,-0.05*i, 0) # move_camera(action, dx / height, dy / height)\n",
    "    video_1.append(env.render(mode='rgb_array').copy())\n",
    "    #set_cam(env, cam_config_2)\n",
    "    #video_2.append(env.render(mode='rgb_array').copy())\n",
    "\n",
    "env.close()\n",
    "print(\"Createing Video..\")\n",
    "display_video(video_1, gif=True)\n",
    "#display_video(video_2, gif=True)"
   ]
  },
  {
   "cell_type": "markdown",
   "metadata": {},
   "source": [
    "## Unused codes"
   ]
  },
  {
   "cell_type": "code",
   "execution_count": null,
   "metadata": {},
   "outputs": [],
   "source": [
    "def get_rand_action(n_action, lower_bounds = None, upper_bounds = None) :\n",
    "    _ = np.random.uniform(low=lower_bounds, high=upper_bounds, size=n_action)\n",
    "    return _\n",
    "\n",
    "\n",
    "import gym\n",
    "env = gym.make('Humanoid-v3') # Initalize with 'Humanoid-v3' - embedded in Gym\n",
    "env.reset()\n",
    "num_action = np.array(env.action_space.shape).sum()\n",
    "#get_rand_action(bounds=num_action)\n",
    "_ = get_rand_action(num_action, lower_bounds=np.zeros(num_action), upper_bounds = np.ones(num_action))\n",
    "print(_)"
   ]
  },
  {
   "cell_type": "code",
   "execution_count": null,
   "metadata": {},
   "outputs": [],
   "source": [
    "!jupyter nbextension enable --py widgetsnbextension\n",
    "from ipywidgets import *\n"
   ]
  }
 ],
 "metadata": {
  "interpreter": {
   "hash": "ec456e22879bfe22a52309097a45d9d357fbfa33eaf9fb990edc43e310585da7"
  },
  "kernelspec": {
   "display_name": "Python 3.9.7 ('p39t110c113')",
   "language": "python",
   "name": "python3"
  },
  "language_info": {
   "codemirror_mode": {
    "name": "ipython",
    "version": 3
   },
   "file_extension": ".py",
   "mimetype": "text/x-python",
   "name": "python",
   "nbconvert_exporter": "python",
   "pygments_lexer": "ipython3",
   "version": "3.9.7"
  },
  "orig_nbformat": 4
 },
 "nbformat": 4,
 "nbformat_minor": 2
}
